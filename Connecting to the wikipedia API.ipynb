{
 "cells": [
  {
   "cell_type": "markdown",
   "metadata": {},
   "source": [
    "This is a first attempt to connect to the wikipedia API and get random articles using wikipedia library in python."
   ]
  },
  {
   "cell_type": "markdown",
   "metadata": {},
   "source": [
    "https://wikipedia.readthedocs.io/en/latest/quickstart.html#quickstart"
   ]
  },
  {
   "cell_type": "code",
   "execution_count": 1,
   "metadata": {},
   "outputs": [],
   "source": [
    "import wikipedia\n",
    "import random"
   ]
  },
  {
   "cell_type": "code",
   "execution_count": 3,
   "metadata": {},
   "outputs": [],
   "source": [
    "random_title=wikipedia.random() #the .random() method allows to get a random title, which we can then use as an argument \n",
    "#to retrieve the text."
   ]
  },
  {
   "cell_type": "code",
   "execution_count": 4,
   "metadata": {},
   "outputs": [
    {
     "data": {
      "text/plain": [
       "\"Doraemon: Gadget Cat from the Future is the US English adaptation of the 2005 anime that has been airing since July 7, 2014 and has aired a total of 52 episodes as of 2015. Since February 1, 2016 the US adaptation airs bilingually in Japan on Disney Channel Japan. As of June 12, 2016, broadcasts of new episodes in the US are currently on hiatus according to Bang Zoom! Entertainment. However, Disney XD began to rerun the existing dubbed episodes in March 2017 as a lead-in to its new weekday afternoon anime block.This dub takes many liberties from the original Japanese version. Besides using the name changes that were used in AltJapan's English adaptation of the original manga, other changes and edits have been made to make the show more relatable to an American audience, such as Japanese text being replaced with English text on certain objects like signs and graded papers, items such as yen notes being replaced by US dollar bills, and the setting being changed from Tokyo to a small town in the southern US state of North Carolina.\""
      ]
     },
     "execution_count": 4,
     "metadata": {},
     "output_type": "execute_result"
    }
   ],
   "source": [
    "wikipedia.summary(random_title) #getting the summary"
   ]
  },
  {
   "cell_type": "code",
   "execution_count": 5,
   "metadata": {},
   "outputs": [],
   "source": [
    "page1=wikipedia.page(random_title)"
   ]
  },
  {
   "cell_type": "code",
   "execution_count": 6,
   "metadata": {},
   "outputs": [
    {
     "data": {
      "text/plain": [
       "\"Doraemon: Gadget Cat from the Future is the US English adaptation of the 2005 anime that has been airing since July 7, 2014 and has aired a total of 52 episodes as of 2015. Since February 1, 2016 the US adaptation airs bilingually in Japan on Disney Channel Japan. As of June 12, 2016, broadcasts of new episodes in the US are currently on hiatus according to Bang Zoom! Entertainment. However, Disney XD began to rerun the existing dubbed episodes in March 2017 as a lead-in to its new weekday afternoon anime block.This dub takes many liberties from the original Japanese version. Besides using the name changes that were used in AltJapan's English adaptation of the original manga, other changes and edits have been made to make the show more relatable to an American audience, such as Japanese text being replaced with English text on certain objects like signs and graded papers, items such as yen notes being replaced by US dollar bills, and the setting being changed from Tokyo to a small town in the southern US state of North Carolina.\\n\\n\\n== Episodes ==\\n\\n\\n=== Series overview ===\\n\\n\\n=== Season 1 (2014) ===\\n\\n\\n=== Season 2 (2015) ===\\n\\n\\n== See also ==\\nList of Doraemon episodes (2005 anime) (seasons 1–3)\\nList of Doraemon episodes (2005 anime) (seasons 4–6)\\nList of Doraemon episodes (2005 anime) (seasons 7–9)\\nList of Doraemon episodes (2005 anime) (seasons 10–13)\\n\\n\\n== References ==\\n\\n\\n== External links ==\""
      ]
     },
     "execution_count": 6,
     "metadata": {},
     "output_type": "execute_result"
    }
   ],
   "source": [
    "page1.content"
   ]
  },
  {
   "cell_type": "markdown",
   "metadata": {},
   "source": [
    "Creating a random title list for the corpus."
   ]
  },
  {
   "cell_type": "code",
   "execution_count": 7,
   "metadata": {},
   "outputs": [],
   "source": [
    "random_title_list=wikipedia.random(50) #setting the number of title to 50"
   ]
  },
  {
   "cell_type": "code",
   "execution_count": 8,
   "metadata": {
    "scrolled": true
   },
   "outputs": [
    {
     "data": {
      "text/plain": [
       "['Counts of Blois',\n",
       " 'Agdistis satanas',\n",
       " 'Stephen Ticktin',\n",
       " 'Age of Chance',\n",
       " 'Godakumbura',\n",
       " 'Capparis arborea',\n",
       " 'Malaysia at the 2013 Southeast Asian Games',\n",
       " '1986 Junior League World Series',\n",
       " 'Madan-e Sughan',\n",
       " 'Rorya District',\n",
       " 'Football World',\n",
       " 'Shorter Ideas',\n",
       " 'Peter Rushforth',\n",
       " 'Lachlan Gordon-Duff',\n",
       " 'Quadrant (abdomen)',\n",
       " 'Australia at the 1952 Summer Olympics',\n",
       " 'Combat results table',\n",
       " 'Shira Goodman',\n",
       " 'Illalong',\n",
       " 'Dragoon Wells Massacre',\n",
       " 'Strong Baby',\n",
       " 'Mala del Brenta',\n",
       " 'Great Canadian Heliskiing',\n",
       " 'Wijnkoop',\n",
       " 'Clockwork Angels',\n",
       " 'Golic and Wingo',\n",
       " 'Megacephala nocturna',\n",
       " 'Utah State Route 227',\n",
       " 'Windstorm (film)',\n",
       " 'James Peiris',\n",
       " 'Bogoro',\n",
       " 'Old industrial buildings revitalisation in Hong Kong',\n",
       " 'Production–possibility frontier',\n",
       " 'Pristimantis buckleyi',\n",
       " 'Utah State Route 231',\n",
       " 'Black-and-white antbird',\n",
       " 'Jakubov (disambiguation)',\n",
       " '2014 Milano–Torino',\n",
       " '1910 NHA season',\n",
       " 'Robin Petrie',\n",
       " 'Boll (surname)',\n",
       " 'Grupo Multimedios',\n",
       " 'François Dollier de Casson',\n",
       " 'Rut Tellefsen',\n",
       " 'Eubranchus falklandicus',\n",
       " 'Tenebrae',\n",
       " 'Mahmoud Abdel Aziz',\n",
       " 'Zoe Saldana',\n",
       " 'First Colony',\n",
       " 'Firuzeh County']"
      ]
     },
     "execution_count": 8,
     "metadata": {},
     "output_type": "execute_result"
    }
   ],
   "source": [
    "random_title_list"
   ]
  },
  {
   "cell_type": "code",
   "execution_count": 9,
   "metadata": {},
   "outputs": [
    {
     "name": "stderr",
     "output_type": "stream",
     "text": [
      "C:\\Users\\annalaura.ianiro\\AppData\\Local\\Continuum\\anaconda3\\lib\\site-packages\\wikipedia\\wikipedia.py:389: UserWarning: No parser was explicitly specified, so I'm using the best available HTML parser for this system (\"lxml\"). This usually isn't a problem, but if you run this code on another system, or in a different virtual environment, it may use a different parser and behave differently.\n",
      "\n",
      "The code that caused this warning is on line 389 of the file C:\\Users\\annalaura.ianiro\\AppData\\Local\\Continuum\\anaconda3\\lib\\site-packages\\wikipedia\\wikipedia.py. To get rid of this warning, pass the additional argument 'features=\"lxml\"' to the BeautifulSoup constructor.\n",
      "\n",
      "  lis = BeautifulSoup(html).find_all('li')\n"
     ]
    }
   ],
   "source": [
    "corpus = []\n",
    "for title in random_title_list:\n",
    "    try:\n",
    "        page = wikipedia.page(title=title)\n",
    "    except wikipedia.exceptions.DisambiguationError as e: #avoiding the diasmbiguation error\n",
    "        s = random.choice(e.options) #picking a random disambuguation option\n",
    "        page = wikipedia.page(title=s)\n",
    "    except wikipedia.exceptions.PageError: #avoiding the inexhistent page error\n",
    "        next #going to the next item in the loop\n",
    "   \n",
    "    corpus.append(page.content)"
   ]
  },
  {
   "cell_type": "code",
   "execution_count": 10,
   "metadata": {},
   "outputs": [
    {
     "name": "stdout",
     "output_type": "stream",
     "text": [
      "Capparis arborea is a bush or small tree occurring in eastern Australia. The habitat is rainforest; usually riverine, littoral or the drier rainforests. Distributed from the Hunter River, New South Wales to Cape Melville in tropical Queensland. Common names include native pomegranate, wild lime, wild lemon and brush caper berry.\n",
      "\n",
      "\n",
      "== Description ==\n",
      "Up to 8 metres tall with a stem diameter of 25 cm, but usually seen much smaller. The trunk is crooked, short and irregular in appearance. Many sharp prickles grow on younger plants. Grey bark, with less sharp spines in older trees. Small branches fairly thick, dark grey though more green at the end.\n",
      "Leaves alternate on the stem, simple, oblong-lanceolate in shape. Sometimes ovate oblong in shape. 5 to 10 cm long, 1.5 to 5 cm wide. Mostly rounded at the tip, although some leaves pointed at the tip. Juvenile leaves smaller than adult leaves with a prickly pointed leaf tip. Leaf veins visible on both surfaces. The midrib is raised under the leaf, but sunken on the top of the leaf.\n",
      "\n",
      "\n",
      "=== Flowers and fruit ===\n",
      "Single white flowers form from the leaf axils, around 4 cm in diameter. The attractive open wiry flowers form from January to March. Petals 15 mm long, fringed at the edges. The thin flower stalks are 30 to 50 mm long.\n",
      "From December to March, a fruit resembling a guava forms. Green, smooth and soft, globular in shape. Around 2.5 to 6 cm in diameter. Fruit stalks 3 to 5 cm long. The seeds are round and flattened, 8 to 10 mm in diameter. The ripe fruit are yellow, with the pulp surrounding the seeds being edible, and were a source of food for Aboriginal people. Germination from  fresh seed is not particularly difficult, with the first seeds germinating after three weeks.\n",
      "\n",
      "\n",
      "== References ==\n",
      "\n",
      "Hiddins, L., Bush Tucker Field Guide, Explore Australia Publishing 2003, ISBN 1-74117-028-1 page 95\n",
      "Floyd, A.G., Rainforest Trees of Mainland South-eastern Australia, Inkata Press 2008, ISBN 978-0-9589436-7-3 page 94\n",
      "\"Capparis arborea\". PlantNET - NSW Flora Online. Retrieved 2010-04-11.\n",
      "Queensland Museum, Wild Plants of Greater Brisbane, Queensland Museum 2003, ISBN 0-9751116-2-0 page 251\n"
     ]
    }
   ],
   "source": [
    "print(corpus[5]) #printing an element of the corpus list"
   ]
  },
  {
   "cell_type": "markdown",
   "metadata": {},
   "source": [
    "\n",
    "import json\n",
    "with open('corpus.txt', 'w') as filehandle:  #saving the corpus into a txt file\n",
    "    json.dump(corpus, filehandle)\n",
    "\n"
   ]
  },
  {
   "cell_type": "markdown",
   "metadata": {},
   "source": [
    "\n",
    "with open('corpus.txt', 'r') as filehandle:  #loading the corpus\n",
    "    corpus_loaded = json.load(filehandle)\n",
    "\n"
   ]
  },
  {
   "cell_type": "code",
   "execution_count": 14,
   "metadata": {},
   "outputs": [
    {
     "name": "stdout",
     "output_type": "stream",
     "text": [
      "Capparis arborea is a bush or small tree occurring in eastern Australia. The habitat is rainforest; usually riverine, littoral or the drier rainforests. Distributed from the Hunter River, New South Wales to Cape Melville in tropical Queensland. Common names include native pomegranate, wild lime, wild lemon and brush caper berry.\n",
      "\n",
      "\n",
      "== Description ==\n",
      "Up to 8 metres tall with a stem diameter of 25 cm, but usually seen much smaller. The trunk is crooked, short and irregular in appearance. Many sharp prickles grow on younger plants. Grey bark, with less sharp spines in older trees. Small branches fairly thick, dark grey though more green at the end.\n",
      "Leaves alternate on the stem, simple, oblong-lanceolate in shape. Sometimes ovate oblong in shape. 5 to 10 cm long, 1.5 to 5 cm wide. Mostly rounded at the tip, although some leaves pointed at the tip. Juvenile leaves smaller than adult leaves with a prickly pointed leaf tip. Leaf veins visible on both surfaces. The midrib is raised under the leaf, but sunken on the top of the leaf.\n",
      "\n",
      "\n",
      "=== Flowers and fruit ===\n",
      "Single white flowers form from the leaf axils, around 4 cm in diameter. The attractive open wiry flowers form from January to March. Petals 15 mm long, fringed at the edges. The thin flower stalks are 30 to 50 mm long.\n",
      "From December to March, a fruit resembling a guava forms. Green, smooth and soft, globular in shape. Around 2.5 to 6 cm in diameter. Fruit stalks 3 to 5 cm long. The seeds are round and flattened, 8 to 10 mm in diameter. The ripe fruit are yellow, with the pulp surrounding the seeds being edible, and were a source of food for Aboriginal people. Germination from  fresh seed is not particularly difficult, with the first seeds germinating after three weeks.\n",
      "\n",
      "\n",
      "== References ==\n",
      "\n",
      "Hiddins, L., Bush Tucker Field Guide, Explore Australia Publishing 2003, ISBN 1-74117-028-1 page 95\n",
      "Floyd, A.G., Rainforest Trees of Mainland South-eastern Australia, Inkata Press 2008, ISBN 978-0-9589436-7-3 page 94\n",
      "\"Capparis arborea\". PlantNET - NSW Flora Online. Retrieved 2010-04-11.\n",
      "Queensland Museum, Wild Plants of Greater Brisbane, Queensland Museum 2003, ISBN 0-9751116-2-0 page 251\n"
     ]
    }
   ],
   "source": [
    "#print(corpus_loaded[5])"
   ]
  },
  {
   "cell_type": "code",
   "execution_count": null,
   "metadata": {},
   "outputs": [],
   "source": []
  }
 ],
 "metadata": {
  "kernelspec": {
   "display_name": "Python 3",
   "language": "python",
   "name": "python3"
  },
  "language_info": {
   "codemirror_mode": {
    "name": "ipython",
    "version": 3
   },
   "file_extension": ".py",
   "mimetype": "text/x-python",
   "name": "python",
   "nbconvert_exporter": "python",
   "pygments_lexer": "ipython3",
   "version": "3.7.1"
  }
 },
 "nbformat": 4,
 "nbformat_minor": 2
}
